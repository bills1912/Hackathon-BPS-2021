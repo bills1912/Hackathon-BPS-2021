{
 "cells": [
  {
   "cell_type": "code",
   "execution_count": null,
   "source": [
    "# Import Training and Testing Data\r\n",
    "import pandas as pd\r\n",
    "\r\n",
    "online_booking_train = pd.read_csv(\"train-online_booking_2020.csv\")\r\n",
    "online_booking_test = pd.read_csv(\"test-online_booking_2021.csv\")"
   ],
   "outputs": [],
   "metadata": {}
  },
  {
   "cell_type": "code",
   "execution_count": null,
   "source": [
    "# Checking Missing Value from the Data\r\n",
    "df1 = online_booking_train.isna().sum()\r\n",
    "df2 = online_booking_test.isna().sum()\r\n",
    "print(\"Data testing:\\n\", df1, \"\\n\")\r\n",
    "print(\"Data training:\\n\", df2)"
   ],
   "outputs": [],
   "metadata": {}
  },
  {
   "cell_type": "code",
   "execution_count": null,
   "source": [
    "# Making the Used Room Dataset\r\n",
    "online_booking_train['room_used'] = online_booking_train['room_total'] - online_booking_train['all_available_room']\r\n",
    "online_booking_test['room_used'] = online_booking_test['room_total'] - online_booking_test['all_available_room']"
   ],
   "outputs": [],
   "metadata": {}
  },
  {
   "cell_type": "code",
   "execution_count": null,
   "source": [
    "online_booking_train['tpk_online'] = online_booking_train['room_used']/online_booking_train['room_total']*100\r\n",
    "online_booking_test['tpk_online'] = online_booking_test['room_used']/online_booking_test['room_total']*100"
   ],
   "outputs": [],
   "metadata": {}
  },
  {
   "cell_type": "code",
   "execution_count": null,
   "source": [
    "# Convert the Type of 'tanggal' Column into Datetime Type\r\n",
    "online_booking_train['tanggal'] = pd.to_datetime(online_booking_train['tanggal'])\r\n",
    "online_booking_test['tanggal'] = pd.to_datetime(online_booking_test['tanggal'])"
   ],
   "outputs": [],
   "metadata": {}
  },
  {
   "cell_type": "code",
   "execution_count": null,
   "source": [
    "print(online_booking_train.head())\r\n",
    "print(online_booking_test.head())"
   ],
   "outputs": [],
   "metadata": {}
  },
  {
   "cell_type": "code",
   "execution_count": null,
   "source": [
    "# Visualize the Train Data Depend On the Time Aggregate\r\n",
    "import matplotlib.pyplot as plt\r\n",
    "\r\n",
    "plt.figure(figsize=(12, 8))\r\n",
    "online_booking_train.groupby('tanggal')['room_used'].sum().plot()\r\n",
    "plt.title(\"Jumlah Ruang yang Digunakan Berdasarkan Waktu\", fontsize=15)\r\n",
    "plt.xlabel(\"Waktu\")\r\n",
    "plt.ylabel(\"Jumlah\")\r\n",
    "plt.show()"
   ],
   "outputs": [],
   "metadata": {}
  },
  {
   "cell_type": "code",
   "execution_count": null,
   "source": [
    "# Setting the Datetime Dataset ('tanggal') Column to Only Group of Month\r\n",
    "agg_train_online_booking = online_booking_train.set_index('tanggal').resample('M').mean()\r\n",
    "agg_test_online_booking = online_booking_test.set_index('tanggal').resample('M').mean()"
   ],
   "outputs": [],
   "metadata": {}
  },
  {
   "cell_type": "code",
   "execution_count": null,
   "source": [
    "# Reset the Data Index\r\n",
    "agg_train_online_booking = agg_train_online_booking.reset_index()\r\n",
    "agg_test_online_booking = agg_test_online_booking.reset_index()"
   ],
   "outputs": [],
   "metadata": {}
  },
  {
   "cell_type": "code",
   "execution_count": null,
   "source": [
    "# Set the ID depend on Time Column\r\n",
    "agg_train_online_booking['Id'] = pd.DatetimeIndex(agg_train_online_booking['tanggal']).month\r\n",
    "agg_test_online_booking['Id'] = pd.DatetimeIndex(agg_test_online_booking['tanggal']).month"
   ],
   "outputs": [],
   "metadata": {}
  },
  {
   "cell_type": "code",
   "execution_count": null,
   "source": [
    "# Import TPK Dataset\r\n",
    "tpk_hotel_berbintang_train = pd.read_csv(\"train-TPK_Hotel_berbintang_2020.csv\")\r\n",
    "tpk_hotel_berbintang_test = pd.read_csv(\"test-TPK_Hotel_berbintang_2021.csv\")"
   ],
   "outputs": [],
   "metadata": {}
  },
  {
   "cell_type": "code",
   "execution_count": null,
   "source": [
    "# Merge All of The Data into a Completed Training and Testing Dataset\r\n",
    "df_full_train = pd.merge(agg_train_online_booking, tpk_hotel_berbintang_train, on='Id', how='left')\r\n",
    "df_full_test = pd.merge(agg_test_online_booking, tpk_hotel_berbintang_test, on='Id', how='left')"
   ],
   "outputs": [],
   "metadata": {}
  },
  {
   "cell_type": "code",
   "execution_count": null,
   "source": [
    "print(df_full_train.head())\r\n",
    "print(df_full_test.head())"
   ],
   "outputs": [],
   "metadata": {}
  },
  {
   "cell_type": "code",
   "execution_count": null,
   "source": [
    "# Fill the Aggregate Dataset using The Mean of the Used Room\r\n",
    "agg_value_train = df_full_train.groupby('tanggal')['room_used'].mean()\r\n",
    "agg_value_test = df_full_test.groupby('tanggal')['room_used'].mean()\r\n",
    "\r\n",
    "for x in range(0, 12):\r\n",
    "    df_full_train.loc[:x, 'Aggregate_var'].fillna(agg_value_train[x], inplace=True)\r\n",
    "\r\n",
    "for y in range(0, 6):\r\n",
    "    df_full_test.loc[:y, 'Aggregate'].fillna(agg_value_test[y], inplace=True)"
   ],
   "outputs": [],
   "metadata": {}
  },
  {
   "cell_type": "code",
   "execution_count": null,
   "source": [
    "# Making Training and Testing Dataset\r\n",
    "train_ds = df_full_train[['tpk_online','TPK']]\r\n",
    "test_ds = df_full_test[['tpk_online', 'TPK']]"
   ],
   "outputs": [],
   "metadata": {}
  },
  {
   "cell_type": "code",
   "execution_count": null,
   "source": [
    "# Checking the Normalization of Data\r\n",
    "import seaborn as sns\r\n",
    "import matplotlib.pyplot as plt\r\n",
    "\r\n",
    "plt.figure(figsize=(10,8))\r\n",
    "sns.displot(test_ds, x='tpk_online_minmaxscaler')\r\n",
    "plt.show()"
   ],
   "outputs": [],
   "metadata": {}
  },
  {
   "cell_type": "code",
   "execution_count": null,
   "source": [
    "# Checking The Outlier\r\n",
    "plt.figure(figsize=(10,8))\r\n",
    "train_ds.boxplot()\r\n",
    "plt.show()"
   ],
   "outputs": [],
   "metadata": {}
  },
  {
   "cell_type": "code",
   "execution_count": null,
   "source": [
    "# Second Splitting\r\n",
    "X_train_ds = train_ds['tpk_online']\r\n",
    "y_train_ds = train_ds['TPK']"
   ],
   "outputs": [],
   "metadata": {}
  },
  {
   "cell_type": "code",
   "execution_count": null,
   "source": [
    "# Making the Decision Tree Regressor Model\r\n",
    "from sklearn.tree import DecisionTreeRegressor\r\n",
    "from sklearn.model_selection import GridSearchCV\r\n",
    "from sklearn.pipeline import Pipeline\r\n",
    "import numpy as np\r\n",
    "\r\n",
    "dtr = DecisionTreeRegressor()\r\n",
    "dtr.get_params()"
   ],
   "outputs": [],
   "metadata": {}
  },
  {
   "cell_type": "code",
   "execution_count": null,
   "source": [
    "grid = GridSearchCV(dtr, param_grid=dict(\r\n",
    "                                        ccp_alpha=np.linspace(1, 10, 10),\r\n",
    "                                        criterion=['mse','mae']\r\n",
    "))\r\n",
    "model = grid.fit(X_train_ds.values.reshape(-1,1), y_train_ds.values.reshape(-1,1))\r\n",
    "\r\n",
    "y_pred = model.predict(X_train_ds.values.reshape(-1,1))\r\n",
    "print(\"Model score:\", model.score(X_train_ds.values.reshape(-1,1), y_train_ds.values.reshape(-1,1)))"
   ],
   "outputs": [],
   "metadata": {}
  },
  {
   "cell_type": "code",
   "execution_count": null,
   "source": [
    "# Making the Decision Tree Regressor Model\r\n",
    "from sklearn.ensemble import RandomForestRegressor\r\n",
    "from sklearn.model_selection import GridSearchCV\r\n",
    "from sklearn.pipeline import Pipeline\r\n",
    "\r\n",
    "rfc = RandomForestRegressor()\r\n",
    "rfc.get_params()"
   ],
   "outputs": [],
   "metadata": {}
  },
  {
   "cell_type": "code",
   "execution_count": null,
   "source": [
    "grid = GridSearchCV(rfc, param_grid=dict(\r\n",
    "                                        ccp_alpha=np.linspace(1, 10, 10),\r\n",
    "                                        criterion=['mse', 'mae'],\r\n",
    "), n_jobs=-1)\r\n",
    "model = grid.fit(X_train_ds.values.reshape(-1,1), y_train_ds.values.reshape(-1,1))\r\n",
    "\r\n",
    "y_pred = model.predict(X_train_ds.values.reshape(-1,1))\r\n",
    "print(\"Model score:\", model.score(X_train_ds.values.reshape(-1,1), y_train_ds.values.reshape(-1,1)))"
   ],
   "outputs": [],
   "metadata": {}
  },
  {
   "cell_type": "code",
   "execution_count": null,
   "source": [
    "from sklearn.linear_model import Ridge\r\n",
    "\r\n",
    "ridge = Ridge()\r\n",
    "ridge.get_params()"
   ],
   "outputs": [],
   "metadata": {}
  },
  {
   "cell_type": "code",
   "execution_count": null,
   "source": [
    "grid = GridSearchCV(ridge, param_grid=dict(\r\n",
    "                                            alpha=(2.5, 3, 10, 11),\r\n",
    "                                            normalize=['True', 'False']),\r\n",
    "                                            n_jobs=-1\r\n",
    ")\r\n",
    "\r\n",
    "model = grid.fit(X_train_ds.values.reshape(-1,1), y_train_ds.values.reshape(-1,1))\r\n",
    "\r\n",
    "y_pred = model.predict(X_train_ds.values.reshape(-1,1))\r\n",
    "print(\"Model score:\", model.score(X_train_ds.values.reshape(-1,1), y_train_ds.values.reshape(-1,1)))"
   ],
   "outputs": [],
   "metadata": {}
  },
  {
   "cell_type": "code",
   "execution_count": null,
   "source": [
    "# Check the Root Mean Squared Error of the Model\r\n",
    "from sklearn.metrics import mean_squared_error\r\n",
    "import numpy as np\r\n",
    "\r\n",
    "mse = mean_squared_error(X_training, y_pred)\r\n",
    "rmse = np.sqrt(mse)\r\n",
    "print(rmse)"
   ],
   "outputs": [],
   "metadata": {}
  },
  {
   "cell_type": "code",
   "execution_count": null,
   "source": [
    "# Predict the Testing TPK Dataset\r\n",
    "tpk_predict = model.predict(test_ds['tpk_online'].values.reshape(-1,1))\r\n",
    "tpk_predict = tpk_predict.ravel()\r\n",
    "tpk_predict"
   ],
   "outputs": [],
   "metadata": {}
  },
  {
   "cell_type": "code",
   "execution_count": null,
   "source": [
    "# Fill the Resul of the TPK Prediction\r\n",
    "for y in range(0, 6):\r\n",
    "    df_full_test.loc[:y, 'TPK'].fillna(tpk_predict[y], inplace=True)"
   ],
   "outputs": [],
   "metadata": {}
  },
  {
   "cell_type": "code",
   "execution_count": null,
   "source": [
    "df_full_test['TPK']"
   ],
   "outputs": [],
   "metadata": {}
  },
  {
   "cell_type": "code",
   "execution_count": 64,
   "source": [
    "hasil = pd.DataFrame()\r\n",
    "hasil['Id'] = df_full_test['Id']\r\n",
    "hasil['TPK'] = df_full_test['TPK']\r\n",
    "hasil[['Id', 'TPK']]"
   ],
   "outputs": [
    {
     "output_type": "execute_result",
     "data": {
      "text/html": [
       "<div>\n",
       "<style scoped>\n",
       "    .dataframe tbody tr th:only-of-type {\n",
       "        vertical-align: middle;\n",
       "    }\n",
       "\n",
       "    .dataframe tbody tr th {\n",
       "        vertical-align: top;\n",
       "    }\n",
       "\n",
       "    .dataframe thead th {\n",
       "        text-align: right;\n",
       "    }\n",
       "</style>\n",
       "<table border=\"1\" class=\"dataframe\">\n",
       "  <thead>\n",
       "    <tr style=\"text-align: right;\">\n",
       "      <th></th>\n",
       "      <th>Id</th>\n",
       "      <th>TPK</th>\n",
       "    </tr>\n",
       "  </thead>\n",
       "  <tbody>\n",
       "    <tr>\n",
       "      <th>0</th>\n",
       "      <td>1</td>\n",
       "      <td>11.705102</td>\n",
       "    </tr>\n",
       "    <tr>\n",
       "      <th>1</th>\n",
       "      <td>2</td>\n",
       "      <td>13.010614</td>\n",
       "    </tr>\n",
       "    <tr>\n",
       "      <th>2</th>\n",
       "      <td>3</td>\n",
       "      <td>11.463698</td>\n",
       "    </tr>\n",
       "    <tr>\n",
       "      <th>3</th>\n",
       "      <td>4</td>\n",
       "      <td>12.229685</td>\n",
       "    </tr>\n",
       "    <tr>\n",
       "      <th>4</th>\n",
       "      <td>5</td>\n",
       "      <td>12.383181</td>\n",
       "    </tr>\n",
       "    <tr>\n",
       "      <th>5</th>\n",
       "      <td>6</td>\n",
       "      <td>12.970386</td>\n",
       "    </tr>\n",
       "  </tbody>\n",
       "</table>\n",
       "</div>"
      ],
      "text/plain": [
       "   Id        TPK\n",
       "0   1  11.705102\n",
       "1   2  13.010614\n",
       "2   3  11.463698\n",
       "3   4  12.229685\n",
       "4   5  12.383181\n",
       "5   6  12.970386"
      ]
     },
     "metadata": {},
     "execution_count": 64
    }
   ],
   "metadata": {}
  },
  {
   "cell_type": "code",
   "execution_count": 65,
   "source": [
    "hasil.to_csv('HASIL_MODEL.csv', index=False)"
   ],
   "outputs": [],
   "metadata": {}
  },
  {
   "cell_type": "code",
   "execution_count": null,
   "source": [
    "# Checking the Confusion Matrix of the Model\r\n",
    "from yellowbrick.regressor import PredictionError\r\n",
    "\r\n",
    "pe = PredictionError(dtr)\r\n",
    "pe.fit(X_train.values.reshape(-1,1), y_train.values.reshape(-1,1))\r\n",
    "pe.score(X_test.values.reshape(-1,1), y_test.values.reshape(-1,1))\r\n",
    "pe.show()"
   ],
   "outputs": [],
   "metadata": {}
  }
 ],
 "metadata": {
  "orig_nbformat": 4,
  "language_info": {
   "name": "python",
   "version": "3.8.2",
   "mimetype": "text/x-python",
   "codemirror_mode": {
    "name": "ipython",
    "version": 3
   },
   "pygments_lexer": "ipython3",
   "nbconvert_exporter": "python",
   "file_extension": ".py"
  },
  "kernelspec": {
   "name": "python3",
   "display_name": "Python 3.8.2 64-bit"
  },
  "interpreter": {
   "hash": "f23faf4bfe871c203c8bec80520af5927fc7cb1ae3bd834ddf554ee587ad1c05"
  }
 },
 "nbformat": 4,
 "nbformat_minor": 2
}